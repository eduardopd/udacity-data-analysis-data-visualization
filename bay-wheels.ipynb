{
 "cells": [
  {
   "cell_type": "markdown",
   "metadata": {},
   "source": [
    "# Bay Wheels Data Exploration"
   ]
  },
  {
   "cell_type": "markdown",
   "metadata": {},
   "source": [
    "## Preliminary Wrangling\n",
    "This document explores a dataset of 176799 trips using Bay Wheels bikes. "
   ]
  },
  {
   "cell_type": "code",
   "execution_count": 29,
   "metadata": {},
   "outputs": [],
   "source": [
    "# import packages\n",
    "import numpy as np\n",
    "import pandas as pd\n",
    "import matplotlib.pyplot as plt\n",
    "import seaborn as sb\n",
    "import math\n",
    "import datetime\n",
    "\n",
    "%matplotlib inline"
   ]
  },
  {
   "cell_type": "code",
   "execution_count": 2,
   "metadata": {},
   "outputs": [
    {
     "data": {
      "text/html": [
       "<div>\n",
       "<style scoped>\n",
       "    .dataframe tbody tr th:only-of-type {\n",
       "        vertical-align: middle;\n",
       "    }\n",
       "\n",
       "    .dataframe tbody tr th {\n",
       "        vertical-align: top;\n",
       "    }\n",
       "\n",
       "    .dataframe thead th {\n",
       "        text-align: right;\n",
       "    }\n",
       "</style>\n",
       "<table border=\"1\" class=\"dataframe\">\n",
       "  <thead>\n",
       "    <tr style=\"text-align: right;\">\n",
       "      <th></th>\n",
       "      <th>duration_sec</th>\n",
       "      <th>start_time</th>\n",
       "      <th>end_time</th>\n",
       "      <th>start_station_id</th>\n",
       "      <th>start_station_name</th>\n",
       "      <th>start_station_latitude</th>\n",
       "      <th>start_station_longitude</th>\n",
       "      <th>end_station_id</th>\n",
       "      <th>end_station_name</th>\n",
       "      <th>end_station_latitude</th>\n",
       "      <th>end_station_longitude</th>\n",
       "      <th>bike_id</th>\n",
       "      <th>user_type</th>\n",
       "      <th>rental_access_method</th>\n",
       "    </tr>\n",
       "  </thead>\n",
       "  <tbody>\n",
       "    <tr>\n",
       "      <th>0</th>\n",
       "      <td>35187</td>\n",
       "      <td>2020-03-31 20:42:10.0790</td>\n",
       "      <td>2020-04-01 06:28:37.8440</td>\n",
       "      <td>462.0</td>\n",
       "      <td>Cruise Terminal at Pier 27</td>\n",
       "      <td>37.804648</td>\n",
       "      <td>-122.402087</td>\n",
       "      <td>24.0</td>\n",
       "      <td>Spear St at Folsom St</td>\n",
       "      <td>37.789677</td>\n",
       "      <td>-122.390428</td>\n",
       "      <td>10982</td>\n",
       "      <td>Customer</td>\n",
       "      <td>NaN</td>\n",
       "    </tr>\n",
       "    <tr>\n",
       "      <th>1</th>\n",
       "      <td>14568</td>\n",
       "      <td>2020-03-31 22:45:25.5010</td>\n",
       "      <td>2020-04-01 02:48:13.7730</td>\n",
       "      <td>42.0</td>\n",
       "      <td>San Francisco City Hall (Polk St at Grove St)</td>\n",
       "      <td>37.778650</td>\n",
       "      <td>-122.418230</td>\n",
       "      <td>370.0</td>\n",
       "      <td>Jones St at Post St</td>\n",
       "      <td>37.787327</td>\n",
       "      <td>-122.413278</td>\n",
       "      <td>12617</td>\n",
       "      <td>Customer</td>\n",
       "      <td>NaN</td>\n",
       "    </tr>\n",
       "    <tr>\n",
       "      <th>2</th>\n",
       "      <td>35990</td>\n",
       "      <td>2020-03-31 15:08:22.3310</td>\n",
       "      <td>2020-04-01 01:08:12.9900</td>\n",
       "      <td>391.0</td>\n",
       "      <td>1st St at Younger Ave</td>\n",
       "      <td>37.355030</td>\n",
       "      <td>-121.904436</td>\n",
       "      <td>397.0</td>\n",
       "      <td>Gish Rd at 1st St</td>\n",
       "      <td>37.361867</td>\n",
       "      <td>-121.909315</td>\n",
       "      <td>12812</td>\n",
       "      <td>Customer</td>\n",
       "      <td>NaN</td>\n",
       "    </tr>\n",
       "    <tr>\n",
       "      <th>3</th>\n",
       "      <td>1068</td>\n",
       "      <td>2020-03-31 23:55:00.4260</td>\n",
       "      <td>2020-04-01 00:12:49.0200</td>\n",
       "      <td>456.0</td>\n",
       "      <td>Arguello Blvd at Geary Blvd</td>\n",
       "      <td>37.781468</td>\n",
       "      <td>-122.458806</td>\n",
       "      <td>107.0</td>\n",
       "      <td>17th St at Dolores St</td>\n",
       "      <td>37.763015</td>\n",
       "      <td>-122.426497</td>\n",
       "      <td>12955</td>\n",
       "      <td>Customer</td>\n",
       "      <td>NaN</td>\n",
       "    </tr>\n",
       "    <tr>\n",
       "      <th>4</th>\n",
       "      <td>3300</td>\n",
       "      <td>2020-03-31 23:00:55.6410</td>\n",
       "      <td>2020-03-31 23:55:56.6110</td>\n",
       "      <td>6.0</td>\n",
       "      <td>The Embarcadero at Sansome St</td>\n",
       "      <td>37.804770</td>\n",
       "      <td>-122.403234</td>\n",
       "      <td>24.0</td>\n",
       "      <td>Spear St at Folsom St</td>\n",
       "      <td>37.789677</td>\n",
       "      <td>-122.390428</td>\n",
       "      <td>13050</td>\n",
       "      <td>Customer</td>\n",
       "      <td>NaN</td>\n",
       "    </tr>\n",
       "  </tbody>\n",
       "</table>\n",
       "</div>"
      ],
      "text/plain": [
       "   duration_sec                start_time                  end_time  \\\n",
       "0         35187  2020-03-31 20:42:10.0790  2020-04-01 06:28:37.8440   \n",
       "1         14568  2020-03-31 22:45:25.5010  2020-04-01 02:48:13.7730   \n",
       "2         35990  2020-03-31 15:08:22.3310  2020-04-01 01:08:12.9900   \n",
       "3          1068  2020-03-31 23:55:00.4260  2020-04-01 00:12:49.0200   \n",
       "4          3300  2020-03-31 23:00:55.6410  2020-03-31 23:55:56.6110   \n",
       "\n",
       "   start_station_id                             start_station_name  \\\n",
       "0             462.0                     Cruise Terminal at Pier 27   \n",
       "1              42.0  San Francisco City Hall (Polk St at Grove St)   \n",
       "2             391.0                          1st St at Younger Ave   \n",
       "3             456.0                    Arguello Blvd at Geary Blvd   \n",
       "4               6.0                  The Embarcadero at Sansome St   \n",
       "\n",
       "   start_station_latitude  start_station_longitude  end_station_id  \\\n",
       "0               37.804648              -122.402087            24.0   \n",
       "1               37.778650              -122.418230           370.0   \n",
       "2               37.355030              -121.904436           397.0   \n",
       "3               37.781468              -122.458806           107.0   \n",
       "4               37.804770              -122.403234            24.0   \n",
       "\n",
       "        end_station_name  end_station_latitude  end_station_longitude  \\\n",
       "0  Spear St at Folsom St             37.789677            -122.390428   \n",
       "1    Jones St at Post St             37.787327            -122.413278   \n",
       "2      Gish Rd at 1st St             37.361867            -121.909315   \n",
       "3  17th St at Dolores St             37.763015            -122.426497   \n",
       "4  Spear St at Folsom St             37.789677            -122.390428   \n",
       "\n",
       "   bike_id user_type rental_access_method  \n",
       "0    10982  Customer                  NaN  \n",
       "1    12617  Customer                  NaN  \n",
       "2    12812  Customer                  NaN  \n",
       "3    12955  Customer                  NaN  \n",
       "4    13050  Customer                  NaN  "
      ]
     },
     "execution_count": 2,
     "metadata": {},
     "output_type": "execute_result"
    }
   ],
   "source": [
    "df = pd.read_csv('202003-baywheels-tripdata.csv')\n",
    "df.head()"
   ]
  },
  {
   "cell_type": "code",
   "execution_count": 4,
   "metadata": {},
   "outputs": [
    {
     "name": "stdout",
     "output_type": "stream",
     "text": [
      "<class 'pandas.core.frame.DataFrame'>\n",
      "RangeIndex: 176799 entries, 0 to 176798\n",
      "Data columns (total 14 columns):\n",
      " #   Column                   Non-Null Count   Dtype  \n",
      "---  ------                   --------------   -----  \n",
      " 0   duration_sec             176799 non-null  int64  \n",
      " 1   start_time               176799 non-null  object \n",
      " 2   end_time                 176799 non-null  object \n",
      " 3   start_station_id         110696 non-null  float64\n",
      " 4   start_station_name       111349 non-null  object \n",
      " 5   start_station_latitude   176799 non-null  float64\n",
      " 6   start_station_longitude  176799 non-null  float64\n",
      " 7   end_station_id           111097 non-null  float64\n",
      " 8   end_station_name         111794 non-null  object \n",
      " 9   end_station_latitude     176799 non-null  float64\n",
      " 10  end_station_longitude    176799 non-null  float64\n",
      " 11  bike_id                  176799 non-null  int64  \n",
      " 12  user_type                176799 non-null  object \n",
      " 13  rental_access_method     114269 non-null  object \n",
      "dtypes: float64(6), int64(2), object(6)\n",
      "memory usage: 18.9+ MB\n"
     ]
    }
   ],
   "source": [
    "df.info()"
   ]
  },
  {
   "cell_type": "code",
   "execution_count": 105,
   "metadata": {},
   "outputs": [
    {
     "data": {
      "text/plain": [
       "array(['Customer', 'Subscriber'], dtype=object)"
      ]
     },
     "execution_count": 105,
     "metadata": {},
     "output_type": "execute_result"
    }
   ],
   "source": [
    "df_clean.user_type.unique()"
   ]
  },
  {
   "cell_type": "code",
   "execution_count": 106,
   "metadata": {},
   "outputs": [
    {
     "data": {
      "text/plain": [
       "array([nan, 'app', 'clipper'], dtype=object)"
      ]
     },
     "execution_count": 106,
     "metadata": {},
     "output_type": "execute_result"
    }
   ],
   "source": [
    "df_clean.rental_access_method.unique()"
   ]
  },
  {
   "cell_type": "code",
   "execution_count": 152,
   "metadata": {},
   "outputs": [
    {
     "data": {
      "text/html": [
       "<div>\n",
       "<style scoped>\n",
       "    .dataframe tbody tr th:only-of-type {\n",
       "        vertical-align: middle;\n",
       "    }\n",
       "\n",
       "    .dataframe tbody tr th {\n",
       "        vertical-align: top;\n",
       "    }\n",
       "\n",
       "    .dataframe thead th {\n",
       "        text-align: right;\n",
       "    }\n",
       "</style>\n",
       "<table border=\"1\" class=\"dataframe\">\n",
       "  <thead>\n",
       "    <tr style=\"text-align: right;\">\n",
       "      <th></th>\n",
       "      <th>duration_sec</th>\n",
       "      <th>start_time</th>\n",
       "      <th>end_time</th>\n",
       "      <th>start_station_id</th>\n",
       "      <th>start_station_name</th>\n",
       "      <th>start_station_latitude</th>\n",
       "      <th>start_station_longitude</th>\n",
       "      <th>end_station_id</th>\n",
       "      <th>end_station_name</th>\n",
       "      <th>end_station_latitude</th>\n",
       "      <th>end_station_longitude</th>\n",
       "      <th>bike_id</th>\n",
       "      <th>user_type</th>\n",
       "      <th>rental_access_method</th>\n",
       "      <th>distance_km</th>\n",
       "      <th>duration_min</th>\n",
       "    </tr>\n",
       "  </thead>\n",
       "  <tbody>\n",
       "    <tr>\n",
       "      <th>0</th>\n",
       "      <td>35187</td>\n",
       "      <td>2020-03-31 20:42:10.0790</td>\n",
       "      <td>2020-04-01 06:28:37.8440</td>\n",
       "      <td>462.0</td>\n",
       "      <td>Cruise Terminal at Pier 27</td>\n",
       "      <td>37.804648</td>\n",
       "      <td>-122.402087</td>\n",
       "      <td>24.0</td>\n",
       "      <td>Spear St at Folsom St</td>\n",
       "      <td>37.789677</td>\n",
       "      <td>-122.390428</td>\n",
       "      <td>10982</td>\n",
       "      <td>Customer</td>\n",
       "      <td>NaN</td>\n",
       "      <td>1.955266</td>\n",
       "      <td>586.450000</td>\n",
       "    </tr>\n",
       "    <tr>\n",
       "      <th>1</th>\n",
       "      <td>14568</td>\n",
       "      <td>2020-03-31 22:45:25.5010</td>\n",
       "      <td>2020-04-01 02:48:13.7730</td>\n",
       "      <td>42.0</td>\n",
       "      <td>San Francisco City Hall (Polk St at Grove St)</td>\n",
       "      <td>37.778650</td>\n",
       "      <td>-122.418230</td>\n",
       "      <td>370.0</td>\n",
       "      <td>Jones St at Post St</td>\n",
       "      <td>37.787327</td>\n",
       "      <td>-122.413278</td>\n",
       "      <td>12617</td>\n",
       "      <td>Customer</td>\n",
       "      <td>NaN</td>\n",
       "      <td>1.058744</td>\n",
       "      <td>242.800000</td>\n",
       "    </tr>\n",
       "    <tr>\n",
       "      <th>2</th>\n",
       "      <td>35990</td>\n",
       "      <td>2020-03-31 15:08:22.3310</td>\n",
       "      <td>2020-04-01 01:08:12.9900</td>\n",
       "      <td>391.0</td>\n",
       "      <td>1st St at Younger Ave</td>\n",
       "      <td>37.355030</td>\n",
       "      <td>-121.904436</td>\n",
       "      <td>397.0</td>\n",
       "      <td>Gish Rd at 1st St</td>\n",
       "      <td>37.361867</td>\n",
       "      <td>-121.909315</td>\n",
       "      <td>12812</td>\n",
       "      <td>Customer</td>\n",
       "      <td>NaN</td>\n",
       "      <td>0.874317</td>\n",
       "      <td>599.833333</td>\n",
       "    </tr>\n",
       "    <tr>\n",
       "      <th>3</th>\n",
       "      <td>1068</td>\n",
       "      <td>2020-03-31 23:55:00.4260</td>\n",
       "      <td>2020-04-01 00:12:49.0200</td>\n",
       "      <td>456.0</td>\n",
       "      <td>Arguello Blvd at Geary Blvd</td>\n",
       "      <td>37.781468</td>\n",
       "      <td>-122.458806</td>\n",
       "      <td>107.0</td>\n",
       "      <td>17th St at Dolores St</td>\n",
       "      <td>37.763015</td>\n",
       "      <td>-122.426497</td>\n",
       "      <td>12955</td>\n",
       "      <td>Customer</td>\n",
       "      <td>NaN</td>\n",
       "      <td>3.504582</td>\n",
       "      <td>17.800000</td>\n",
       "    </tr>\n",
       "    <tr>\n",
       "      <th>4</th>\n",
       "      <td>3300</td>\n",
       "      <td>2020-03-31 23:00:55.6410</td>\n",
       "      <td>2020-03-31 23:55:56.6110</td>\n",
       "      <td>6.0</td>\n",
       "      <td>The Embarcadero at Sansome St</td>\n",
       "      <td>37.804770</td>\n",
       "      <td>-122.403234</td>\n",
       "      <td>24.0</td>\n",
       "      <td>Spear St at Folsom St</td>\n",
       "      <td>37.789677</td>\n",
       "      <td>-122.390428</td>\n",
       "      <td>13050</td>\n",
       "      <td>Customer</td>\n",
       "      <td>NaN</td>\n",
       "      <td>2.021190</td>\n",
       "      <td>55.000000</td>\n",
       "    </tr>\n",
       "  </tbody>\n",
       "</table>\n",
       "</div>"
      ],
      "text/plain": [
       "   duration_sec                start_time                  end_time  \\\n",
       "0         35187  2020-03-31 20:42:10.0790  2020-04-01 06:28:37.8440   \n",
       "1         14568  2020-03-31 22:45:25.5010  2020-04-01 02:48:13.7730   \n",
       "2         35990  2020-03-31 15:08:22.3310  2020-04-01 01:08:12.9900   \n",
       "3          1068  2020-03-31 23:55:00.4260  2020-04-01 00:12:49.0200   \n",
       "4          3300  2020-03-31 23:00:55.6410  2020-03-31 23:55:56.6110   \n",
       "\n",
       "   start_station_id                             start_station_name  \\\n",
       "0             462.0                     Cruise Terminal at Pier 27   \n",
       "1              42.0  San Francisco City Hall (Polk St at Grove St)   \n",
       "2             391.0                          1st St at Younger Ave   \n",
       "3             456.0                    Arguello Blvd at Geary Blvd   \n",
       "4               6.0                  The Embarcadero at Sansome St   \n",
       "\n",
       "   start_station_latitude  start_station_longitude  end_station_id  \\\n",
       "0               37.804648              -122.402087            24.0   \n",
       "1               37.778650              -122.418230           370.0   \n",
       "2               37.355030              -121.904436           397.0   \n",
       "3               37.781468              -122.458806           107.0   \n",
       "4               37.804770              -122.403234            24.0   \n",
       "\n",
       "        end_station_name  end_station_latitude  end_station_longitude  \\\n",
       "0  Spear St at Folsom St             37.789677            -122.390428   \n",
       "1    Jones St at Post St             37.787327            -122.413278   \n",
       "2      Gish Rd at 1st St             37.361867            -121.909315   \n",
       "3  17th St at Dolores St             37.763015            -122.426497   \n",
       "4  Spear St at Folsom St             37.789677            -122.390428   \n",
       "\n",
       "   bike_id user_type rental_access_method  distance_km  duration_min  \n",
       "0    10982  Customer                  NaN     1.955266    586.450000  \n",
       "1    12617  Customer                  NaN     1.058744    242.800000  \n",
       "2    12812  Customer                  NaN     0.874317    599.833333  \n",
       "3    12955  Customer                  NaN     3.504582     17.800000  \n",
       "4    13050  Customer                  NaN     2.021190     55.000000  "
      ]
     },
     "execution_count": 152,
     "metadata": {},
     "output_type": "execute_result"
    }
   ],
   "source": [
    "# Make a clean copy if the original dataframe and generate the new columns to be used. \n",
    "df_new = df.copy()\n",
    "\n",
    "#### Distance covered in each trip ####\n",
    "\n",
    "R = 6373.0\n",
    "\n",
    "distance = []\n",
    "\n",
    "for index, row in df_new.iterrows(): \n",
    "    lat1 = math.radians(row['start_station_latitude'])\n",
    "    lon1 = math.radians(row['start_station_longitude'])\n",
    "    lat2 = math.radians(row['end_station_latitude'])\n",
    "    lon2 = math.radians(row['end_station_longitude'])\n",
    "\n",
    "    dlon = lon2 - lon1\n",
    "\n",
    "    dlat = lat2 - lat1\n",
    "\n",
    "    # Haversine formula\n",
    "    a = math.sin(dlat / 2)**2 + math.cos(lat1) * math.cos(lat2) * math.sin(dlon / 2)**2\n",
    "\n",
    "    c = 2 * math.atan2(math.sqrt(a), math.sqrt(1 - a))\n",
    "\n",
    "    # Distance in Km\n",
    "    distance.append(R * c)\n",
    "\n",
    "df_new['distance_km'] = distance\n",
    "\n",
    "#### Duration in minutes #### \n",
    "\n",
    "df_new['duration_min'] = df_new['duration_sec']/60\n",
    "\n",
    "#### Preview the new dataframe without assessing and cleaning ####\n",
    "df_new.head()\n"
   ]
  },
  {
   "cell_type": "markdown",
   "metadata": {},
   "source": [
    "### Assessing and Cleaning\n",
    "\n",
    "#### Define\n",
    "    - Convert data strings to data type.\n",
    "    - Calculate and add column with the distance in Km. \n",
    "        - Remove distances larger than 20 km. \n",
    "    - Remove duration larger than 5 hours / 18.000 seconds.\n",
    "    - Calculate and add column with the pace in Km/h. \n",
    "    - Calculate and add column with the duration in minutes."
   ]
  },
  {
   "cell_type": "code",
   "execution_count": 129,
   "metadata": {},
   "outputs": [
    {
     "name": "stdout",
     "output_type": "stream",
     "text": [
      "<class 'pandas.core.frame.DataFrame'>\n",
      "RangeIndex: 176799 entries, 0 to 176798\n",
      "Data columns (total 14 columns):\n",
      " #   Column                   Non-Null Count   Dtype         \n",
      "---  ------                   --------------   -----         \n",
      " 0   duration_sec             176799 non-null  int64         \n",
      " 1   start_time               176799 non-null  datetime64[ns]\n",
      " 2   end_time                 176799 non-null  datetime64[ns]\n",
      " 3   start_station_id         110696 non-null  float64       \n",
      " 4   start_station_name       111349 non-null  object        \n",
      " 5   start_station_latitude   176799 non-null  float64       \n",
      " 6   start_station_longitude  176799 non-null  float64       \n",
      " 7   end_station_id           111097 non-null  float64       \n",
      " 8   end_station_name         111794 non-null  object        \n",
      " 9   end_station_latitude     176799 non-null  float64       \n",
      " 10  end_station_longitude    176799 non-null  float64       \n",
      " 11  bike_id                  176799 non-null  int64         \n",
      " 12  user_type                176799 non-null  object        \n",
      " 13  rental_access_method     114269 non-null  object        \n",
      "dtypes: datetime64[ns](2), float64(6), int64(2), object(4)\n",
      "memory usage: 18.9+ MB\n"
     ]
    }
   ],
   "source": [
    "# Make a clean copy of the original dataframe\n",
    "df_clean = df.copy()\n",
    "\n",
    "# Convert start_time and end_time columns to datetime\n",
    "df_clean['start_time'] = pd.to_datetime(df['start_time'], format='%Y-%m-%d %H:%M:%S.%f')\n",
    "df_clean['end_time'] = pd.to_datetime(df['end_time'], format='%Y-%m-%d %H:%M:%S.%f')\n",
    "\n",
    "# Test \n",
    "df_clean.info()"
   ]
  },
  {
   "cell_type": "code",
   "execution_count": 130,
   "metadata": {},
   "outputs": [],
   "source": [
    "# Distance covered in each trip\n",
    "\n",
    "# Radius of the Earth\n",
    "R = 6373.0\n",
    "\n",
    "distance = []\n",
    "\n",
    "for index, row in df_clean.iterrows(): \n",
    "    lat1 = math.radians(row['start_station_latitude'])\n",
    "    lon1 = math.radians(row['start_station_longitude'])\n",
    "    lat2 = math.radians(row['end_station_latitude'])\n",
    "    lon2 = math.radians(row['end_station_longitude'])\n",
    "\n",
    "    dlon = lon2 - lon1\n",
    "\n",
    "    dlat = lat2 - lat1\n",
    "\n",
    "    # Haversine formula\n",
    "    a = math.sin(dlat / 2)**2 + math.cos(lat1) * math.cos(lat2) * math.sin(dlon / 2)**2\n",
    "\n",
    "    c = 2 * math.atan2(math.sqrt(a), math.sqrt(1 - a))\n",
    "\n",
    "    # Distance in Km\n",
    "    distance.append(R * c)\n",
    "\n",
    "df_clean['distance_km'] = distance\n",
    "\n"
   ]
  },
  {
   "cell_type": "code",
   "execution_count": 131,
   "metadata": {},
   "outputs": [
    {
     "name": "stdout",
     "output_type": "stream",
     "text": [
      "Before: count    176799.000000\n",
      "mean          2.429902\n",
      "std          86.093477\n",
      "min           0.000000\n",
      "25%           0.900855\n",
      "50%           1.543508\n",
      "75%           2.513275\n",
      "max       12801.660204\n",
      "Name: distance_km, dtype: float64\n",
      "After: count    176733.000000\n",
      "mean          1.847239\n",
      "std           1.336124\n",
      "min           0.000000\n",
      "25%           0.900790\n",
      "50%           1.543295\n",
      "75%           2.512679\n",
      "max           9.999632\n",
      "Name: distance_km, dtype: float64\n"
     ]
    }
   ],
   "source": [
    "# Remove distances larger than 25 kilometers \n",
    "print('Before:', df_clean['distance_km'].describe())\n",
    "\n",
    "remove_dist = df_clean.query('distance_km > 10')\n",
    "\n",
    "df_clean = df_clean[~df_clean.index.isin(remove_dist.index)]\n",
    "\n",
    "# Test\n",
    "print('After:', df_clean['distance_km'].describe())\n"
   ]
  },
  {
   "cell_type": "code",
   "execution_count": 132,
   "metadata": {},
   "outputs": [
    {
     "name": "stdout",
     "output_type": "stream",
     "text": [
      "Before:  count    176733.000000\n",
      "mean        859.544505\n",
      "std        1509.287492\n",
      "min          60.000000\n",
      "25%         374.000000\n",
      "50%         602.000000\n",
      "75%         962.000000\n",
      "max       84450.000000\n",
      "Name: duration_sec, dtype: float64\n",
      "After:  count    176596.000000\n",
      "mean        829.456182\n",
      "std         895.323493\n",
      "min          60.000000\n",
      "25%         374.000000\n",
      "50%         601.000000\n",
      "75%         961.000000\n",
      "max       17974.000000\n",
      "Name: duration_sec, dtype: float64\n"
     ]
    }
   ],
   "source": [
    "# Remove duration larger than 18.000 seconds \n",
    "print('Before: ', df_clean['duration_sec'].describe())\n",
    "\n",
    "remove_dur = df_clean.query('duration_sec > 18000')\n",
    "\n",
    "df_clean = df_clean[~df_clean.index.isin(remove_dur.index)]\n",
    "\n",
    "# Test\n",
    "print('After: ', df_clean['duration_sec'].describe())\n",
    "\n"
   ]
  },
  {
   "cell_type": "code",
   "execution_count": 133,
   "metadata": {},
   "outputs": [
    {
     "data": {
      "text/plain": [
       "count    176596.000000\n",
       "mean          9.875030\n",
       "std           4.395685\n",
       "min           0.000000\n",
       "25%           7.543716\n",
       "50%          10.300558\n",
       "75%          12.772184\n",
       "max         113.837167\n",
       "Name: pace_km_h, dtype: float64"
      ]
     },
     "execution_count": 133,
     "metadata": {},
     "output_type": "execute_result"
    }
   ],
   "source": [
    "# Pace of each trip.\n",
    "pace = []\n",
    "\n",
    "df_clean['distance_km'] = df_clean['distance_km'].astype(float)\n",
    "\n",
    "# Convert duration from seconds to minuted and to hours. \n",
    "for index, row in df_clean.iterrows(): \n",
    "    time_hours = ((row['duration_sec']/60)/60)    \n",
    "    distance = row['distance_km']\n",
    "    # Calculate the pace\n",
    "    \n",
    "    pace.append(distance/time_hours)\n",
    "\n",
    "df_clean['pace_km_h'] = pace\n",
    "\n",
    "df_clean['pace_km_h'].describe()"
   ]
  },
  {
   "cell_type": "code",
   "execution_count": 134,
   "metadata": {},
   "outputs": [],
   "source": [
    "# Duration in minutes \n",
    "\n",
    "df_clean['duration_min'] = df_clean['duration_sec']/60"
   ]
  },
  {
   "cell_type": "code",
   "execution_count": 135,
   "metadata": {},
   "outputs": [
    {
     "data": {
      "text/html": [
       "<div>\n",
       "<style scoped>\n",
       "    .dataframe tbody tr th:only-of-type {\n",
       "        vertical-align: middle;\n",
       "    }\n",
       "\n",
       "    .dataframe tbody tr th {\n",
       "        vertical-align: top;\n",
       "    }\n",
       "\n",
       "    .dataframe thead th {\n",
       "        text-align: right;\n",
       "    }\n",
       "</style>\n",
       "<table border=\"1\" class=\"dataframe\">\n",
       "  <thead>\n",
       "    <tr style=\"text-align: right;\">\n",
       "      <th></th>\n",
       "      <th>duration_sec</th>\n",
       "      <th>start_time</th>\n",
       "      <th>end_time</th>\n",
       "      <th>start_station_id</th>\n",
       "      <th>start_station_name</th>\n",
       "      <th>start_station_latitude</th>\n",
       "      <th>start_station_longitude</th>\n",
       "      <th>end_station_id</th>\n",
       "      <th>end_station_name</th>\n",
       "      <th>end_station_latitude</th>\n",
       "      <th>end_station_longitude</th>\n",
       "      <th>bike_id</th>\n",
       "      <th>user_type</th>\n",
       "      <th>rental_access_method</th>\n",
       "      <th>distance_km</th>\n",
       "      <th>pace_km_h</th>\n",
       "      <th>duration_min</th>\n",
       "    </tr>\n",
       "  </thead>\n",
       "  <tbody>\n",
       "    <tr>\n",
       "      <th>1</th>\n",
       "      <td>14568</td>\n",
       "      <td>2020-03-31 22:45:25.501</td>\n",
       "      <td>2020-04-01 02:48:13.773</td>\n",
       "      <td>42.0</td>\n",
       "      <td>San Francisco City Hall (Polk St at Grove St)</td>\n",
       "      <td>37.778650</td>\n",
       "      <td>-122.418230</td>\n",
       "      <td>370.0</td>\n",
       "      <td>Jones St at Post St</td>\n",
       "      <td>37.787327</td>\n",
       "      <td>-122.413278</td>\n",
       "      <td>12617</td>\n",
       "      <td>Customer</td>\n",
       "      <td>NaN</td>\n",
       "      <td>1.058744</td>\n",
       "      <td>0.261634</td>\n",
       "      <td>242.800000</td>\n",
       "    </tr>\n",
       "    <tr>\n",
       "      <th>3</th>\n",
       "      <td>1068</td>\n",
       "      <td>2020-03-31 23:55:00.426</td>\n",
       "      <td>2020-04-01 00:12:49.020</td>\n",
       "      <td>456.0</td>\n",
       "      <td>Arguello Blvd at Geary Blvd</td>\n",
       "      <td>37.781468</td>\n",
       "      <td>-122.458806</td>\n",
       "      <td>107.0</td>\n",
       "      <td>17th St at Dolores St</td>\n",
       "      <td>37.763015</td>\n",
       "      <td>-122.426497</td>\n",
       "      <td>12955</td>\n",
       "      <td>Customer</td>\n",
       "      <td>NaN</td>\n",
       "      <td>3.504582</td>\n",
       "      <td>11.813196</td>\n",
       "      <td>17.800000</td>\n",
       "    </tr>\n",
       "    <tr>\n",
       "      <th>4</th>\n",
       "      <td>3300</td>\n",
       "      <td>2020-03-31 23:00:55.641</td>\n",
       "      <td>2020-03-31 23:55:56.611</td>\n",
       "      <td>6.0</td>\n",
       "      <td>The Embarcadero at Sansome St</td>\n",
       "      <td>37.804770</td>\n",
       "      <td>-122.403234</td>\n",
       "      <td>24.0</td>\n",
       "      <td>Spear St at Folsom St</td>\n",
       "      <td>37.789677</td>\n",
       "      <td>-122.390428</td>\n",
       "      <td>13050</td>\n",
       "      <td>Customer</td>\n",
       "      <td>NaN</td>\n",
       "      <td>2.021190</td>\n",
       "      <td>2.204935</td>\n",
       "      <td>55.000000</td>\n",
       "    </tr>\n",
       "    <tr>\n",
       "      <th>5</th>\n",
       "      <td>1232</td>\n",
       "      <td>2020-03-31 23:29:19.395</td>\n",
       "      <td>2020-03-31 23:49:52.252</td>\n",
       "      <td>152.0</td>\n",
       "      <td>47th St at San Pablo Ave</td>\n",
       "      <td>37.835632</td>\n",
       "      <td>-122.281051</td>\n",
       "      <td>195.0</td>\n",
       "      <td>Bay Pl at Vernon St</td>\n",
       "      <td>37.812314</td>\n",
       "      <td>-122.260779</td>\n",
       "      <td>9746</td>\n",
       "      <td>Customer</td>\n",
       "      <td>NaN</td>\n",
       "      <td>3.146346</td>\n",
       "      <td>9.193869</td>\n",
       "      <td>20.533333</td>\n",
       "    </tr>\n",
       "    <tr>\n",
       "      <th>6</th>\n",
       "      <td>368</td>\n",
       "      <td>2020-03-31 23:35:03.834</td>\n",
       "      <td>2020-03-31 23:41:12.221</td>\n",
       "      <td>458.0</td>\n",
       "      <td>Frederick St at Arguello Blvd</td>\n",
       "      <td>37.765783</td>\n",
       "      <td>-122.457637</td>\n",
       "      <td>70.0</td>\n",
       "      <td>Central Ave at Fell St</td>\n",
       "      <td>37.773311</td>\n",
       "      <td>-122.444293</td>\n",
       "      <td>11057</td>\n",
       "      <td>Customer</td>\n",
       "      <td>NaN</td>\n",
       "      <td>1.441416</td>\n",
       "      <td>14.100806</td>\n",
       "      <td>6.133333</td>\n",
       "    </tr>\n",
       "  </tbody>\n",
       "</table>\n",
       "</div>"
      ],
      "text/plain": [
       "   duration_sec              start_time                end_time  \\\n",
       "1         14568 2020-03-31 22:45:25.501 2020-04-01 02:48:13.773   \n",
       "3          1068 2020-03-31 23:55:00.426 2020-04-01 00:12:49.020   \n",
       "4          3300 2020-03-31 23:00:55.641 2020-03-31 23:55:56.611   \n",
       "5          1232 2020-03-31 23:29:19.395 2020-03-31 23:49:52.252   \n",
       "6           368 2020-03-31 23:35:03.834 2020-03-31 23:41:12.221   \n",
       "\n",
       "   start_station_id                             start_station_name  \\\n",
       "1              42.0  San Francisco City Hall (Polk St at Grove St)   \n",
       "3             456.0                    Arguello Blvd at Geary Blvd   \n",
       "4               6.0                  The Embarcadero at Sansome St   \n",
       "5             152.0                       47th St at San Pablo Ave   \n",
       "6             458.0                  Frederick St at Arguello Blvd   \n",
       "\n",
       "   start_station_latitude  start_station_longitude  end_station_id  \\\n",
       "1               37.778650              -122.418230           370.0   \n",
       "3               37.781468              -122.458806           107.0   \n",
       "4               37.804770              -122.403234            24.0   \n",
       "5               37.835632              -122.281051           195.0   \n",
       "6               37.765783              -122.457637            70.0   \n",
       "\n",
       "         end_station_name  end_station_latitude  end_station_longitude  \\\n",
       "1     Jones St at Post St             37.787327            -122.413278   \n",
       "3   17th St at Dolores St             37.763015            -122.426497   \n",
       "4   Spear St at Folsom St             37.789677            -122.390428   \n",
       "5     Bay Pl at Vernon St             37.812314            -122.260779   \n",
       "6  Central Ave at Fell St             37.773311            -122.444293   \n",
       "\n",
       "   bike_id user_type rental_access_method  distance_km  pace_km_h  \\\n",
       "1    12617  Customer                  NaN     1.058744   0.261634   \n",
       "3    12955  Customer                  NaN     3.504582  11.813196   \n",
       "4    13050  Customer                  NaN     2.021190   2.204935   \n",
       "5     9746  Customer                  NaN     3.146346   9.193869   \n",
       "6    11057  Customer                  NaN     1.441416  14.100806   \n",
       "\n",
       "   duration_min  \n",
       "1    242.800000  \n",
       "3     17.800000  \n",
       "4     55.000000  \n",
       "5     20.533333  \n",
       "6      6.133333  "
      ]
     },
     "execution_count": 135,
     "metadata": {},
     "output_type": "execute_result"
    }
   ],
   "source": [
    "df_clean.head()"
   ]
  },
  {
   "cell_type": "markdown",
   "metadata": {},
   "source": [
    "## Exploratory Analysis"
   ]
  },
  {
   "cell_type": "markdown",
   "metadata": {},
   "source": [
    "### What is the structure of your dataset?\n",
    "There are a total of 176.799 trips records. For each trip, we have the information of the time, stations, bicycle used, and, user information. The user can be a customer or subscriber. The trip duration is given in seconds. Each trip has start and end stations and, for each station, the latitude, longitude, name, and id information are provided. The rental access method could be via an app, clipper, or not available. I've added two columns, distance in kilometers, calculated using the Haversine formula and the pace. "
   ]
  },
  {
   "cell_type": "markdown",
   "metadata": {},
   "source": [
    "### What is/are the main feature(s) of interest in your dataset?\n",
    "The distances and the time are the main features in the dataset. With this information, we can verify some patterns between bike users. "
   ]
  },
  {
   "cell_type": "markdown",
   "metadata": {},
   "source": [
    "### What features in the dataset do you think will help support your investigation into your feature(s) of interest?\n",
    "The latitude and longitude of both the start and end stations could give us the distance. Using the distance with the time in seconds, we could verify if members, subscribed users, are faster than casual users, for example.  "
   ]
  },
  {
   "cell_type": "markdown",
   "metadata": {},
   "source": [
    "### Univariate Exploration"
   ]
  },
  {
   "cell_type": "markdown",
   "metadata": {},
   "source": [
    "##### Distances"
   ]
  },
  {
   "cell_type": "code",
   "execution_count": 155,
   "metadata": {},
   "outputs": [
    {
     "data": {
      "image/png": "[encoded data removed]",
      "text/plain": [
       "<Figure size 720x360 with 1 Axes>"
      ]
     },
     "metadata": {
      "needs_background": "light"
     },
     "output_type": "display_data"
    }
   ],
   "source": [
    "# Verify how the distances are distributed in the original dataframe.\n",
    "\n",
    "df_new['distance_km'] = df_new['distance_km'].astype(float)\n",
    "\n",
    "binsize = 0.2\n",
    "bins = np.arange(0, df_new['distance_km'].max()+binsize, binsize)\n",
    "\n",
    "def graph():\n",
    "    plt.hist(data = df_new, alpha=0.5, facecolor='y', x = 'distance_km', bins = bins)\n",
    "    \n",
    "plt.figure(figsize=[10,5])    \n",
    "plt.title('Distance distribution in Kilometers')    \n",
    "plt.ylabel('Total Observations')\n",
    "plt.xlabel('Distance in Kilometers')\n",
    "\n",
    "\n",
    "plt.show(graph());"
   ]
  },
  {
   "cell_type": "markdown",
   "metadata": {},
   "source": []
  },
  {
   "cell_type": "code",
   "execution_count": 147,
   "metadata": {},
   "outputs": [
    {
     "data": {
      "image/png": "[encoded data removed]",
      "text/plain": [
       "<Figure size 720x360 with 1 Axes>"
      ]
     },
     "metadata": {
      "needs_background": "light"
     },
     "output_type": "display_data"
    }
   ],
   "source": [
    "# Verify how the distances are distributed after assessing and cleaning.\n",
    "\n",
    "binsize = 0.2\n",
    "bins = np.arange(0, df_clean['distance_km'].max()+binsize, binsize)\n",
    "\n",
    "def graph():\n",
    "    plt.hist(data = df_clean, alpha=0.5, facecolor='y', x = 'distance_km', bins = bins)\n",
    "    \n",
    "plt.figure(figsize=[10,5])    \n",
    "plt.title('Distance distribution in Kilometers')    \n",
    "plt.ylabel('Total Observations')\n",
    "plt.xlabel('Distance in Kilometers')\n",
    "\n",
    "\n",
    "plt.show(graph());"
   ]
  },
  {
   "cell_type": "markdown",
   "metadata": {},
   "source": [
    "##### Time"
   ]
  },
  {
   "cell_type": "code",
   "execution_count": 145,
   "metadata": {},
   "outputs": [
    {
     "data": {
      "image/png": "[encoded data removed]",
      "text/plain": [
       "<Figure size 720x360 with 1 Axes>"
      ]
     },
     "metadata": {
      "needs_background": "light"
     },
     "output_type": "display_data"
    }
   ],
   "source": [
    "# Verify how the time in minutes is distributed\n",
    "\n",
    "binsize = 2\n",
    "bins = np.arange(0, df_clean['duration_min'].max()+binsize, binsize)\n",
    "\n",
    "def graph():\n",
    "    plt.hist(data = df_clean, alpha=0.5, facecolor='g', x = 'duration_min', bins = bins)\n",
    "    \n",
    "plt.figure(figsize=[10,5])    \n",
    "plt.title('Trip duration distribution in less than 1 hour')    \n",
    "plt.ylabel('Total Observations')\n",
    "plt.xlabel('Duration in minutes')\n",
    "plt.xlim([0, 60])\n",
    "\n",
    "plt.show(graph());"
   ]
  },
  {
   "cell_type": "markdown",
   "metadata": {},
   "source": [
    "### Discuss the distribution(s) of your variable(s) of interest. Were there any unusual points? Did you need to perform any transformations? ###"
   ]
  },
  {
   "cell_type": "markdown",
   "metadata": {},
   "source": [
    "### Of the features you investigated, were there any unusual distributions? Did you perform any operations on the data to tidy, adjust, or change the form of the data? If so, why did you do this? ###"
   ]
  },
  {
   "cell_type": "code",
   "execution_count": null,
   "metadata": {},
   "outputs": [],
   "source": []
  }
 ],
 "metadata": {
  "kernelspec": {
   "display_name": "Python 3",
   "language": "python",
   "name": "python3"
  },
  "language_info": {
   "codemirror_mode": {
    "name": "ipython",
    "version": 3
   },
   "file_extension": ".py",
   "mimetype": "text/x-python",
   "name": "python",
   "nbconvert_exporter": "python",
   "pygments_lexer": "ipython3",
   "version": "3.7.6"
  }
 },
 "nbformat": 4,
 "nbformat_minor": 4
}
